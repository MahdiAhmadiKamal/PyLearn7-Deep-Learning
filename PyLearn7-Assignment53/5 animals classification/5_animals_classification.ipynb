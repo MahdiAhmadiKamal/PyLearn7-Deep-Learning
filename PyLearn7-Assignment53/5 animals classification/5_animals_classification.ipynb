{
  "cells": [
    {
      "cell_type": "code",
      "execution_count": 1,
      "metadata": {
        "id": "g1SH-rpa6fil"
      },
      "outputs": [],
      "source": [
        "import tensorflow as tf\n",
        "import numpy as np\n",
        "from tensorflow.keras import layers\n",
        "from tensorflow.keras import models\n",
        "from tensorflow.keras.preprocessing.image import ImageDataGenerator"
      ]
    },
    {
      "cell_type": "code",
      "execution_count": 2,
      "metadata": {
        "colab": {
          "base_uri": "https://localhost:8080/"
        },
        "id": "EMAwb_tAMoD_",
        "outputId": "1592eaeb-e93e-4f5d-b45d-bc93485639c1"
      },
      "outputs": [
        {
          "name": "stdout",
          "output_type": "stream",
          "text": [
            "Found 1042 images belonging to 5 classes.\n",
            "Found 257 images belonging to 5 classes.\n"
          ]
        }
      ],
      "source": [
        "dataset_path = \"dataset/animals\"\n",
        "\n",
        "idg = ImageDataGenerator(\n",
        "    rescale=1/255,\n",
        "    validation_split = 0.2,\n",
        "\n",
        "    # data augmentation\n",
        "    rotation_range=20,\n",
        "    zoom_range=0.2,\n",
        "    horizontal_flip=True,\n",
        "\n",
        ")\n",
        "\n",
        "dataset_train = idg.flow_from_directory(\n",
        "    dataset_path,\n",
        "    shuffle=True,\n",
        "    save_to_dir=\"dataset/animals_augmentation\",\n",
        "    subset=\"training\",\n",
        "    target_size=(224, 224)\n",
        ")\n",
        "\n",
        "dataset_validation = idg.flow_from_directory(\n",
        "    dataset_path,\n",
        "    shuffle=True,\n",
        "    subset=\"validation\",\n",
        "    target_size=(224, 224)\n",
        ")"
      ]
    },
    {
      "cell_type": "code",
      "execution_count": 3,
      "metadata": {
        "colab": {
          "base_uri": "https://localhost:8080/"
        },
        "id": "VrfP-S5NsGUh",
        "outputId": "2ab7cc5a-1fa8-433f-98fc-8d442724e267"
      },
      "outputs": [
        {
          "name": "stderr",
          "output_type": "stream",
          "text": [
            "d:\\Program Files\\Python\\Python310\\lib\\site-packages\\keras\\src\\layers\\convolutional\\base_conv.py:107: UserWarning: Do not pass an `input_shape`/`input_dim` argument to a layer. When using Sequential models, prefer using an `Input(shape)` object as the first layer in the model instead.\n",
            "  super().__init__(activity_regularizer=activity_regularizer, **kwargs)\n"
          ]
        }
      ],
      "source": [
        "model = models.Sequential([\n",
        "    tf.keras.layers.Conv2D(filters=32, kernel_size=(3,3), strides=(2,2), activation=\"relu\", padding=\"same\", input_shape=(224,224,3)),\n",
        "    tf.keras.layers.MaxPooling2D(),\n",
        "    tf.keras.layers.Conv2D(filters=64, kernel_size=(3,3), strides=(1,1), activation=\"relu\", padding=\"same\"),\n",
        "    tf.keras.layers.MaxPooling2D(),\n",
        "    tf.keras.layers.Conv2D(filters=128, kernel_size=(3,3), strides=(1,1), activation=\"relu\", padding=\"same\"),\n",
        "    tf.keras.layers.MaxPooling2D(),\n",
        "    tf.keras.layers.Conv2D(filters=256, kernel_size=(3,3), strides=(1,1), activation=\"relu\", padding=\"same\"),\n",
        "    tf.keras.layers.MaxPooling2D(),\n",
        "\n",
        "    layers.Flatten(),\n",
        "\n",
        "    layers.Dense(512, activation=\"relu\"),\n",
        "    layers.Dense(5, activation=\"softmax\"),\n",
        "])"
      ]
    },
    {
      "cell_type": "code",
      "execution_count": 4,
      "metadata": {
        "id": "ktbN96KK29if"
      },
      "outputs": [],
      "source": [
        "model.compile(optimizer=tf.keras.optimizers.Adam(learning_rate=0.001),\n",
        "              loss=tf.keras.losses.categorical_crossentropy,\n",
        "              metrics=['accuracy']\n",
        "              )"
      ]
    },
    {
      "cell_type": "code",
      "execution_count": 19,
      "metadata": {
        "colab": {
          "base_uri": "https://localhost:8080/"
        },
        "id": "VdxDe42T5mEv",
        "outputId": "36a1aa62-504e-42b9-d6ea-7569b41b46e4"
      },
      "outputs": [
        {
          "name": "stdout",
          "output_type": "stream",
          "text": [
            "Epoch 1/50\n"
          ]
        },
        {
          "name": "stderr",
          "output_type": "stream",
          "text": [
            "d:\\Program Files\\Python\\Python310\\lib\\site-packages\\keras\\src\\trainers\\data_adapters\\py_dataset_adapter.py:121: UserWarning: Your `PyDataset` class should call `super().__init__(**kwargs)` in its constructor. `**kwargs` can include `workers`, `use_multiprocessing`, `max_queue_size`. Do not pass these arguments to `fit()`, as they will be ignored.\n",
            "  self._warn_if_super_not_called()\n"
          ]
        },
        {
          "name": "stdout",
          "output_type": "stream",
          "text": [
            "\u001b[1m33/33\u001b[0m \u001b[32m━━━━━━━━━━━━━━━━━━━━\u001b[0m\u001b[37m\u001b[0m \u001b[1m83s\u001b[0m 2s/step - accuracy: 0.2049 - loss: 1.6594 - val_accuracy: 0.2957 - val_loss: 1.5588\n",
            "Epoch 2/50\n",
            "\u001b[1m33/33\u001b[0m \u001b[32m━━━━━━━━━━━━━━━━━━━━\u001b[0m\u001b[37m\u001b[0m \u001b[1m65s\u001b[0m 2s/step - accuracy: 0.3429 - loss: 1.5062 - val_accuracy: 0.4008 - val_loss: 1.3001\n",
            "Epoch 3/50\n",
            "\u001b[1m33/33\u001b[0m \u001b[32m━━━━━━━━━━━━━━━━━━━━\u001b[0m\u001b[37m\u001b[0m \u001b[1m71s\u001b[0m 2s/step - accuracy: 0.4300 - loss: 1.3163 - val_accuracy: 0.4981 - val_loss: 1.1455\n",
            "Epoch 4/50\n",
            "\u001b[1m33/33\u001b[0m \u001b[32m━━━━━━━━━━━━━━━━━━━━\u001b[0m\u001b[37m\u001b[0m \u001b[1m74s\u001b[0m 2s/step - accuracy: 0.4736 - loss: 1.2226 - val_accuracy: 0.5019 - val_loss: 1.1542\n",
            "Epoch 5/50\n",
            "\u001b[1m33/33\u001b[0m \u001b[32m━━━━━━━━━━━━━━━━━━━━\u001b[0m\u001b[37m\u001b[0m \u001b[1m78s\u001b[0m 2s/step - accuracy: 0.5161 - loss: 1.1298 - val_accuracy: 0.5136 - val_loss: 1.1682\n",
            "Epoch 6/50\n",
            "\u001b[1m33/33\u001b[0m \u001b[32m━━━━━━━━━━━━━━━━━━━━\u001b[0m\u001b[37m\u001b[0m \u001b[1m79s\u001b[0m 2s/step - accuracy: 0.5182 - loss: 1.1060 - val_accuracy: 0.4747 - val_loss: 1.1348\n",
            "Epoch 7/50\n",
            "\u001b[1m33/33\u001b[0m \u001b[32m━━━━━━━━━━━━━━━━━━━━\u001b[0m\u001b[37m\u001b[0m \u001b[1m72s\u001b[0m 2s/step - accuracy: 0.5757 - loss: 1.0056 - val_accuracy: 0.5642 - val_loss: 1.0588\n",
            "Epoch 8/50\n",
            "\u001b[1m33/33\u001b[0m \u001b[32m━━━━━━━━━━━━━━━━━━━━\u001b[0m\u001b[37m\u001b[0m \u001b[1m67s\u001b[0m 2s/step - accuracy: 0.5934 - loss: 0.9602 - val_accuracy: 0.5720 - val_loss: 1.0156\n",
            "Epoch 9/50\n",
            "\u001b[1m33/33\u001b[0m \u001b[32m━━━━━━━━━━━━━━━━━━━━\u001b[0m\u001b[37m\u001b[0m \u001b[1m62s\u001b[0m 2s/step - accuracy: 0.6418 - loss: 0.8654 - val_accuracy: 0.5292 - val_loss: 1.1484\n",
            "Epoch 10/50\n",
            "\u001b[1m33/33\u001b[0m \u001b[32m━━━━━━━━━━━━━━━━━━━━\u001b[0m\u001b[37m\u001b[0m \u001b[1m64s\u001b[0m 2s/step - accuracy: 0.6324 - loss: 0.9037 - val_accuracy: 0.6537 - val_loss: 0.9310\n",
            "Epoch 11/50\n",
            "\u001b[1m33/33\u001b[0m \u001b[32m━━━━━━━━━━━━━━━━━━━━\u001b[0m\u001b[37m\u001b[0m \u001b[1m62s\u001b[0m 2s/step - accuracy: 0.6840 - loss: 0.7897 - val_accuracy: 0.6615 - val_loss: 0.9157\n",
            "Epoch 12/50\n",
            "\u001b[1m33/33\u001b[0m \u001b[32m━━━━━━━━━━━━━━━━━━━━\u001b[0m\u001b[37m\u001b[0m \u001b[1m61s\u001b[0m 2s/step - accuracy: 0.7099 - loss: 0.7806 - val_accuracy: 0.5992 - val_loss: 0.9927\n",
            "Epoch 13/50\n",
            "\u001b[1m33/33\u001b[0m \u001b[32m━━━━━━━━━━━━━━━━━━━━\u001b[0m\u001b[37m\u001b[0m \u001b[1m66s\u001b[0m 2s/step - accuracy: 0.7264 - loss: 0.7117 - val_accuracy: 0.6304 - val_loss: 0.9458\n",
            "Epoch 14/50\n",
            "\u001b[1m33/33\u001b[0m \u001b[32m━━━━━━━━━━━━━━━━━━━━\u001b[0m\u001b[37m\u001b[0m \u001b[1m61s\u001b[0m 2s/step - accuracy: 0.7366 - loss: 0.6624 - val_accuracy: 0.6693 - val_loss: 0.8712\n",
            "Epoch 15/50\n",
            "\u001b[1m33/33\u001b[0m \u001b[32m━━━━━━━━━━━━━━━━━━━━\u001b[0m\u001b[37m\u001b[0m \u001b[1m61s\u001b[0m 2s/step - accuracy: 0.7685 - loss: 0.6110 - val_accuracy: 0.6226 - val_loss: 1.0241\n",
            "Epoch 16/50\n",
            "\u001b[1m33/33\u001b[0m \u001b[32m━━━━━━━━━━━━━━━━━━━━\u001b[0m\u001b[37m\u001b[0m \u001b[1m78s\u001b[0m 2s/step - accuracy: 0.7880 - loss: 0.5873 - val_accuracy: 0.7276 - val_loss: 0.8554\n",
            "Epoch 17/50\n",
            "\u001b[1m33/33\u001b[0m \u001b[32m━━━━━━━━━━━━━━━━━━━━\u001b[0m\u001b[37m\u001b[0m \u001b[1m69s\u001b[0m 2s/step - accuracy: 0.8313 - loss: 0.4671 - val_accuracy: 0.6848 - val_loss: 0.8510\n",
            "Epoch 18/50\n",
            "\u001b[1m33/33\u001b[0m \u001b[32m━━━━━━━━━━━━━━━━━━━━\u001b[0m\u001b[37m\u001b[0m \u001b[1m65s\u001b[0m 2s/step - accuracy: 0.8016 - loss: 0.5032 - val_accuracy: 0.7043 - val_loss: 0.8849\n",
            "Epoch 19/50\n",
            "\u001b[1m33/33\u001b[0m \u001b[32m━━━━━━━━━━━━━━━━━━━━\u001b[0m\u001b[37m\u001b[0m \u001b[1m67s\u001b[0m 2s/step - accuracy: 0.8113 - loss: 0.5117 - val_accuracy: 0.6459 - val_loss: 0.9819\n",
            "Epoch 20/50\n",
            "\u001b[1m33/33\u001b[0m \u001b[32m━━━━━━━━━━━━━━━━━━━━\u001b[0m\u001b[37m\u001b[0m \u001b[1m68s\u001b[0m 2s/step - accuracy: 0.8390 - loss: 0.4020 - val_accuracy: 0.7315 - val_loss: 0.9221\n",
            "Epoch 21/50\n",
            "\u001b[1m33/33\u001b[0m \u001b[32m━━━━━━━━━━━━━━━━━━━━\u001b[0m\u001b[37m\u001b[0m \u001b[1m71s\u001b[0m 2s/step - accuracy: 0.8302 - loss: 0.4186 - val_accuracy: 0.6887 - val_loss: 1.0746\n",
            "Epoch 22/50\n",
            "\u001b[1m33/33\u001b[0m \u001b[32m━━━━━━━━━━━━━━━━━━━━\u001b[0m\u001b[37m\u001b[0m \u001b[1m110s\u001b[0m 3s/step - accuracy: 0.8293 - loss: 0.4157 - val_accuracy: 0.6381 - val_loss: 1.0684\n",
            "Epoch 23/50\n",
            "\u001b[1m33/33\u001b[0m \u001b[32m━━━━━━━━━━━━━━━━━━━━\u001b[0m\u001b[37m\u001b[0m \u001b[1m81s\u001b[0m 2s/step - accuracy: 0.8553 - loss: 0.3623 - val_accuracy: 0.7004 - val_loss: 1.0583\n",
            "Epoch 24/50\n",
            "\u001b[1m33/33\u001b[0m \u001b[32m━━━━━━━━━━━━━━━━━━━━\u001b[0m\u001b[37m\u001b[0m \u001b[1m68s\u001b[0m 2s/step - accuracy: 0.8923 - loss: 0.3205 - val_accuracy: 0.7004 - val_loss: 1.0094\n",
            "Epoch 25/50\n",
            "\u001b[1m33/33\u001b[0m \u001b[32m━━━━━━━━━━━━━━━━━━━━\u001b[0m\u001b[37m\u001b[0m \u001b[1m69s\u001b[0m 2s/step - accuracy: 0.9123 - loss: 0.2691 - val_accuracy: 0.6965 - val_loss: 1.1188\n",
            "Epoch 26/50\n",
            "\u001b[1m33/33\u001b[0m \u001b[32m━━━━━━━━━━━━━━━━━━━━\u001b[0m\u001b[37m\u001b[0m \u001b[1m63s\u001b[0m 2s/step - accuracy: 0.9073 - loss: 0.2658 - val_accuracy: 0.7004 - val_loss: 0.9529\n",
            "Epoch 27/50\n",
            "\u001b[1m33/33\u001b[0m \u001b[32m━━━━━━━━━━━━━━━━━━━━\u001b[0m\u001b[37m\u001b[0m \u001b[1m64s\u001b[0m 2s/step - accuracy: 0.9078 - loss: 0.2344 - val_accuracy: 0.6887 - val_loss: 1.1273\n",
            "Epoch 28/50\n",
            "\u001b[1m33/33\u001b[0m \u001b[32m━━━━━━━━━━━━━━━━━━━━\u001b[0m\u001b[37m\u001b[0m \u001b[1m69s\u001b[0m 2s/step - accuracy: 0.8982 - loss: 0.2515 - val_accuracy: 0.6926 - val_loss: 1.0957\n",
            "Epoch 29/50\n",
            "\u001b[1m33/33\u001b[0m \u001b[32m━━━━━━━━━━━━━━━━━━━━\u001b[0m\u001b[37m\u001b[0m \u001b[1m64s\u001b[0m 2s/step - accuracy: 0.9026 - loss: 0.2705 - val_accuracy: 0.7082 - val_loss: 1.1835\n",
            "Epoch 30/50\n",
            "\u001b[1m33/33\u001b[0m \u001b[32m━━━━━━━━━━━━━━━━━━━━\u001b[0m\u001b[37m\u001b[0m \u001b[1m67s\u001b[0m 2s/step - accuracy: 0.9251 - loss: 0.1941 - val_accuracy: 0.7315 - val_loss: 1.0207\n",
            "Epoch 31/50\n",
            "\u001b[1m33/33\u001b[0m \u001b[32m━━━━━━━━━━━━━━━━━━━━\u001b[0m\u001b[37m\u001b[0m \u001b[1m82s\u001b[0m 2s/step - accuracy: 0.9081 - loss: 0.2142 - val_accuracy: 0.7237 - val_loss: 1.1204\n",
            "Epoch 32/50\n",
            "\u001b[1m33/33\u001b[0m \u001b[32m━━━━━━━━━━━━━━━━━━━━\u001b[0m\u001b[37m\u001b[0m \u001b[1m68s\u001b[0m 2s/step - accuracy: 0.9424 - loss: 0.1646 - val_accuracy: 0.6965 - val_loss: 1.1524\n",
            "Epoch 33/50\n",
            "\u001b[1m33/33\u001b[0m \u001b[32m━━━━━━━━━━━━━━━━━━━━\u001b[0m\u001b[37m\u001b[0m \u001b[1m82s\u001b[0m 2s/step - accuracy: 0.9444 - loss: 0.1520 - val_accuracy: 0.7198 - val_loss: 1.1266\n",
            "Epoch 34/50\n",
            "\u001b[1m33/33\u001b[0m \u001b[32m━━━━━━━━━━━━━━━━━━━━\u001b[0m\u001b[37m\u001b[0m \u001b[1m78s\u001b[0m 2s/step - accuracy: 0.9397 - loss: 0.1736 - val_accuracy: 0.6965 - val_loss: 1.2746\n",
            "Epoch 35/50\n",
            "\u001b[1m33/33\u001b[0m \u001b[32m━━━━━━━━━━━━━━━━━━━━\u001b[0m\u001b[37m\u001b[0m \u001b[1m79s\u001b[0m 2s/step - accuracy: 0.9468 - loss: 0.1658 - val_accuracy: 0.6770 - val_loss: 0.9723\n",
            "Epoch 36/50\n",
            "\u001b[1m33/33\u001b[0m \u001b[32m━━━━━━━━━━━━━━━━━━━━\u001b[0m\u001b[37m\u001b[0m \u001b[1m81s\u001b[0m 2s/step - accuracy: 0.9307 - loss: 0.1891 - val_accuracy: 0.7198 - val_loss: 1.1441\n",
            "Epoch 37/50\n",
            "\u001b[1m33/33\u001b[0m \u001b[32m━━━━━━━━━━━━━━━━━━━━\u001b[0m\u001b[37m\u001b[0m \u001b[1m83s\u001b[0m 2s/step - accuracy: 0.9417 - loss: 0.1446 - val_accuracy: 0.6809 - val_loss: 1.3650\n",
            "Epoch 38/50\n",
            "\u001b[1m33/33\u001b[0m \u001b[32m━━━━━━━━━━━━━━━━━━━━\u001b[0m\u001b[37m\u001b[0m \u001b[1m64s\u001b[0m 2s/step - accuracy: 0.9593 - loss: 0.1363 - val_accuracy: 0.6926 - val_loss: 1.4537\n",
            "Epoch 39/50\n",
            "\u001b[1m33/33\u001b[0m \u001b[32m━━━━━━━━━━━━━━━━━━━━\u001b[0m\u001b[37m\u001b[0m \u001b[1m78s\u001b[0m 2s/step - accuracy: 0.9559 - loss: 0.1368 - val_accuracy: 0.7160 - val_loss: 1.1387\n",
            "Epoch 40/50\n",
            "\u001b[1m33/33\u001b[0m \u001b[32m━━━━━━━━━━━━━━━━━━━━\u001b[0m\u001b[37m\u001b[0m \u001b[1m62s\u001b[0m 2s/step - accuracy: 0.9789 - loss: 0.0685 - val_accuracy: 0.7082 - val_loss: 1.3776\n",
            "Epoch 41/50\n",
            "\u001b[1m33/33\u001b[0m \u001b[32m━━━━━━━━━━━━━━━━━━━━\u001b[0m\u001b[37m\u001b[0m \u001b[1m62s\u001b[0m 2s/step - accuracy: 0.9707 - loss: 0.0972 - val_accuracy: 0.7004 - val_loss: 1.4060\n",
            "Epoch 42/50\n",
            "\u001b[1m33/33\u001b[0m \u001b[32m━━━━━━━━━━━━━━━━━━━━\u001b[0m\u001b[37m\u001b[0m \u001b[1m62s\u001b[0m 2s/step - accuracy: 0.9698 - loss: 0.0930 - val_accuracy: 0.7004 - val_loss: 1.4778\n",
            "Epoch 43/50\n",
            "\u001b[1m33/33\u001b[0m \u001b[32m━━━━━━━━━━━━━━━━━━━━\u001b[0m\u001b[37m\u001b[0m \u001b[1m85s\u001b[0m 2s/step - accuracy: 0.9374 - loss: 0.1697 - val_accuracy: 0.6809 - val_loss: 1.4101\n",
            "Epoch 44/50\n",
            "\u001b[1m33/33\u001b[0m \u001b[32m━━━━━━━━━━━━━━━━━━━━\u001b[0m\u001b[37m\u001b[0m \u001b[1m89s\u001b[0m 2s/step - accuracy: 0.9535 - loss: 0.1385 - val_accuracy: 0.7004 - val_loss: 1.2760\n",
            "Epoch 45/50\n",
            "\u001b[1m33/33\u001b[0m \u001b[32m━━━━━━━━━━━━━━━━━━━━\u001b[0m\u001b[37m\u001b[0m \u001b[1m82s\u001b[0m 2s/step - accuracy: 0.9656 - loss: 0.0876 - val_accuracy: 0.7276 - val_loss: 1.4673\n",
            "Epoch 46/50\n",
            "\u001b[1m33/33\u001b[0m \u001b[32m━━━━━━━━━━━━━━━━━━━━\u001b[0m\u001b[37m\u001b[0m \u001b[1m84s\u001b[0m 2s/step - accuracy: 0.9877 - loss: 0.0368 - val_accuracy: 0.6770 - val_loss: 1.7064\n",
            "Epoch 47/50\n",
            "\u001b[1m33/33\u001b[0m \u001b[32m━━━━━━━━━━━━━━━━━━━━\u001b[0m\u001b[37m\u001b[0m \u001b[1m84s\u001b[0m 2s/step - accuracy: 0.9536 - loss: 0.1438 - val_accuracy: 0.6809 - val_loss: 1.4012\n",
            "Epoch 48/50\n",
            "\u001b[1m33/33\u001b[0m \u001b[32m━━━━━━━━━━━━━━━━━━━━\u001b[0m\u001b[37m\u001b[0m \u001b[1m72s\u001b[0m 2s/step - accuracy: 0.9683 - loss: 0.1119 - val_accuracy: 0.7004 - val_loss: 1.5537\n",
            "Epoch 49/50\n",
            "\u001b[1m33/33\u001b[0m \u001b[32m━━━━━━━━━━━━━━━━━━━━\u001b[0m\u001b[37m\u001b[0m \u001b[1m76s\u001b[0m 2s/step - accuracy: 0.9537 - loss: 0.1601 - val_accuracy: 0.6732 - val_loss: 1.4407\n",
            "Epoch 50/50\n",
            "\u001b[1m33/33\u001b[0m \u001b[32m━━━━━━━━━━━━━━━━━━━━\u001b[0m\u001b[37m\u001b[0m \u001b[1m78s\u001b[0m 2s/step - accuracy: 0.9724 - loss: 0.0623 - val_accuracy: 0.7354 - val_loss: 1.3976\n"
          ]
        }
      ],
      "source": [
        "# dataset_train = x_train & y_train\n",
        "history = model.fit(dataset_train,\n",
        "                    validation_data=dataset_validation,\n",
        "                    epochs=50)\n",
        "\n",
        "# training and evaluating simultaneously:"
      ]
    },
    {
      "cell_type": "code",
      "execution_count": 14,
      "metadata": {
        "colab": {
          "base_uri": "https://localhost:8080/"
        },
        "id": "8kRUSpTq1XsS",
        "outputId": "1998ed66-bc1d-42f0-92d9-2174d542304d"
      },
      "outputs": [
        {
          "name": "stdout",
          "output_type": "stream",
          "text": [
            "\u001b[1m9/9\u001b[0m \u001b[32m━━━━━━━━━━━━━━━━━━━━\u001b[0m\u001b[37m\u001b[0m \u001b[1m5s\u001b[0m 490ms/step - accuracy: 0.7397 - loss: 1.3165\n",
            "validation loss: 1.2062755823135376\n",
            "validation accuracy: 0.7548637986183167\n"
          ]
        }
      ],
      "source": [
        "loss , accuracy = model.evaluate(dataset_validation)\n",
        "print(\"validation loss:\" , loss)\n",
        "print(\"validation accuracy:\" ,accuracy)"
      ]
    },
    {
      "cell_type": "code",
      "execution_count": 22,
      "metadata": {
        "colab": {
          "base_uri": "https://localhost:8080/"
        },
        "id": "4lZJhpAVKakU",
        "outputId": "c632ff85-94d1-44ef-cef1-e250f9886c53"
      },
      "outputs": [
        {
          "name": "stderr",
          "output_type": "stream",
          "text": [
            "WARNING:absl:You are saving your model as an HDF5 file via `model.save()` or `keras.saving.save_model(model)`. This file format is considered legacy. We recommend using instead the native Keras format, e.g. `model.save('my_model.keras')` or `keras.saving.save_model(model, 'my_model.keras')`. \n"
          ]
        }
      ],
      "source": [
        "model.save(\"weights/5_animals_weights.h5\")"
      ]
    },
    {
      "cell_type": "code",
      "execution_count": 23,
      "metadata": {
        "colab": {
          "base_uri": "https://localhost:8080/",
          "height": 468
        },
        "id": "nVrrcH1tSZZN",
        "outputId": "f30c3584-0710-4b9d-f7bd-52edd069aaba"
      },
      "outputs": [
        {
          "data": {
            "image/png": "[encoded data removed]",
            "text/plain": [
              "<Figure size 1200x500 with 2 Axes>"
            ]
          },
          "metadata": {},
          "output_type": "display_data"
        }
      ],
      "source": [
        "import matplotlib.pyplot as plt\n",
        "\n",
        "fig, (ax1, ax2) = plt.subplots(1, 2, figsize=(12, 5))\n",
        "ax1.plot(history.history['loss'])\n",
        "ax1.set_title(\"Train Loss\")\n",
        "ax2.plot(history.history['accuracy'])\n",
        "ax2.set_title(\"Train Accuracy\")\n",
        "plt.show()"
      ]
    },
    {
      "cell_type": "code",
      "execution_count": 7,
      "metadata": {
        "colab": {
          "base_uri": "https://localhost:8080/"
        },
        "id": "nPJi2NfPP7n5",
        "outputId": "bd4396ed-11a9-423f-91c2-2abae4b1e170"
      },
      "outputs": [
        {
          "name": "stderr",
          "output_type": "stream",
          "text": [
            "WARNING:absl:Compiled the loaded model, but the compiled metrics have yet to be built. `model.compile_metrics` will be empty until you train or evaluate the model.\n"
          ]
        }
      ],
      "source": [
        "model = tf.keras.models.load_model('weights/5_animals_weights.h5')"
      ]
    },
    {
      "cell_type": "code",
      "execution_count": 16,
      "metadata": {
        "colab": {
          "base_uri": "https://localhost:8080/"
        },
        "id": "QSeOIqlWIH6e",
        "outputId": "8884d670-4a4b-4357-ff38-d91219b1ef15"
      },
      "outputs": [
        {
          "name": "stdout",
          "output_type": "stream",
          "text": [
            "\u001b[1m9/9\u001b[0m \u001b[32m━━━━━━━━━━━━━━━━━━━━\u001b[0m\u001b[37m\u001b[0m \u001b[1m5s\u001b[0m 492ms/step\n"
          ]
        }
      ],
      "source": [
        "y_pred = model.predict(dataset_validation)\n",
        "y_predict = np.argmax(y_pred , axis=1)"
      ]
    },
    {
      "cell_type": "code",
      "execution_count": 17,
      "metadata": {
        "colab": {
          "base_uri": "https://localhost:8080/"
        },
        "id": "zcOFa7B5fi-T",
        "outputId": "878358af-d21f-431a-cb53-0f992d3e6dab"
      },
      "outputs": [
        {
          "data": {
            "text/plain": [
              "array([[5.1785982e-11, 1.5777237e-06, 9.9978369e-01, 5.4344812e-10,\n",
              "        2.1473519e-04],\n",
              "       [1.7875046e-18, 6.3923135e-20, 2.5445412e-19, 7.1526606e-21,\n",
              "        1.0000000e+00],\n",
              "       [1.4822541e-02, 3.6864445e-04, 1.8740904e-05, 9.7092235e-01,\n",
              "        1.3867715e-02],\n",
              "       ...,\n",
              "       [4.1608315e-02, 2.7896201e-03, 1.8637609e-05, 9.5547628e-01,\n",
              "        1.0720948e-04],\n",
              "       [2.8108348e-04, 9.5132178e-09, 2.2628116e-14, 9.9971884e-01,\n",
              "        9.1325038e-13],\n",
              "       [2.5726931e-05, 9.9997425e-01, 6.6457044e-09, 7.3457489e-09,\n",
              "        4.0635094e-08]], dtype=float32)"
            ]
          },
          "execution_count": 17,
          "metadata": {},
          "output_type": "execute_result"
        }
      ],
      "source": [
        "y_pred"
      ]
    },
    {
      "cell_type": "code",
      "execution_count": 18,
      "metadata": {
        "colab": {
          "base_uri": "https://localhost:8080/"
        },
        "id": "gMWgaMIRfai4",
        "outputId": "f4561e21-3b12-4a19-d9d5-178bdf2c6c52"
      },
      "outputs": [
        {
          "data": {
            "text/plain": [
              "array([2, 4, 3, 3, 2, 3, 4, 1, 0, 3, 2, 2, 3, 3, 1, 4, 0, 1, 3, 4, 4, 1,\n",
              "       0, 2, 2, 4, 1, 2, 4, 3, 0, 3, 3, 2, 4, 2, 0, 2, 2, 4, 1, 4, 0, 2,\n",
              "       1, 0, 0, 2, 3, 3, 4, 3, 4, 0, 0, 4, 0, 0, 4, 4, 4, 4, 1, 0, 2, 4,\n",
              "       1, 1, 0, 0, 0, 1, 1, 1, 1, 4, 1, 4, 3, 3, 4, 2, 1, 0, 2, 2, 2, 2,\n",
              "       2, 0, 4, 4, 2, 1, 0, 2, 1, 4, 4, 2, 2, 2, 2, 2, 3, 1, 4, 4, 0, 2,\n",
              "       1, 2, 0, 2, 1, 2, 1, 1, 4, 4, 3, 2, 3, 4, 4, 4, 3, 1, 1, 0, 4, 1,\n",
              "       1, 0, 2, 0, 4, 0, 4, 1, 2, 4, 0, 4, 1, 1, 2, 1, 1, 2, 4, 0, 2, 1,\n",
              "       0, 0, 4, 4, 0, 1, 4, 0, 2, 1, 4, 1, 2, 1, 1, 1, 1, 0, 0, 4, 0, 3,\n",
              "       2, 2, 3, 1, 0, 3, 1, 0, 1, 2, 0, 4, 2, 3, 4, 4, 1, 3, 2, 1, 1, 1,\n",
              "       0, 0, 0, 4, 1, 0, 0, 3, 0, 3, 3, 4, 1, 3, 1, 2, 1, 4, 1, 4, 1, 0,\n",
              "       2, 2, 0, 1, 0, 4, 3, 2, 2, 3, 1, 4, 3, 0, 4, 0, 0, 4, 1, 3, 4, 0,\n",
              "       0, 4, 1, 3, 1, 4, 3, 1, 0, 0, 0, 3, 3, 3, 1], dtype=int64)"
            ]
          },
          "execution_count": 18,
          "metadata": {},
          "output_type": "execute_result"
        }
      ],
      "source": [
        "y_predict"
      ]
    },
    {
      "cell_type": "code",
      "execution_count": 19,
      "metadata": {
        "colab": {
          "base_uri": "https://localhost:8080/"
        },
        "id": "k0KqsvDfe2Q_",
        "outputId": "3bd4495e-6fbf-4e0a-ed53-cbdd8f1cfcb5"
      },
      "outputs": [
        {
          "data": {
            "text/plain": [
              "array([0, 0, 0, 0, 0, 0, 0, 0, 0, 0, 0, 0, 0, 0, 0, 0, 0, 0, 0, 0, 0, 0,\n",
              "       0, 0, 0, 0, 0, 0, 0, 0, 0, 0, 0, 0, 0, 0, 0, 0, 0, 0, 0, 0, 0, 0,\n",
              "       0, 0, 0, 0, 0, 0, 0, 0, 0, 0, 0, 0, 0, 1, 1, 1, 1, 1, 1, 1, 1, 1,\n",
              "       1, 1, 1, 1, 1, 1, 1, 1, 1, 1, 1, 1, 1, 1, 1, 1, 1, 1, 1, 1, 1, 1,\n",
              "       1, 1, 1, 1, 1, 1, 1, 1, 1, 1, 1, 1, 1, 1, 1, 1, 1, 1, 1, 1, 1, 1,\n",
              "       1, 1, 1, 1, 1, 1, 1, 1, 1, 2, 2, 2, 2, 2, 2, 2, 2, 2, 2, 2, 2, 2,\n",
              "       2, 2, 2, 2, 2, 2, 2, 2, 2, 2, 2, 2, 2, 2, 2, 2, 2, 2, 2, 2, 2, 2,\n",
              "       2, 2, 2, 2, 2, 2, 2, 3, 3, 3, 3, 3, 3, 3, 3, 3, 3, 3, 3, 3, 3, 3,\n",
              "       3, 3, 3, 3, 3, 3, 3, 3, 3, 3, 3, 3, 3, 3, 3, 3, 3, 3, 3, 3, 3, 3,\n",
              "       3, 3, 3, 3, 3, 3, 3, 4, 4, 4, 4, 4, 4, 4, 4, 4, 4, 4, 4, 4, 4, 4,\n",
              "       4, 4, 4, 4, 4, 4, 4, 4, 4, 4, 4, 4, 4, 4, 4, 4, 4, 4, 4, 4, 4, 4,\n",
              "       4, 4, 4, 4, 4, 4, 4, 4, 4, 4, 4, 4, 4, 4, 4])"
            ]
          },
          "execution_count": 19,
          "metadata": {},
          "output_type": "execute_result"
        }
      ],
      "source": [
        "dataset_validation.classes"
      ]
    },
    {
      "cell_type": "code",
      "execution_count": 22,
      "metadata": {
        "colab": {
          "base_uri": "https://localhost:8080/",
          "height": 228
        },
        "id": "ylQ1fUe0jG_u",
        "outputId": "3f5f06ee-eb57-457f-90c2-f8dbd4759ae6"
      },
      "outputs": [
        {
          "data": {
            "image/png": "[encoded data removed]",
            "text/plain": [
              "<Figure size 640x480 with 2 Axes>"
            ]
          },
          "metadata": {},
          "output_type": "display_data"
        }
      ],
      "source": [
        "from sklearn import metrics\n",
        "confusion_mat = metrics.confusion_matrix(dataset_validation.classes, y_predict)\n",
        "cm_display = metrics.ConfusionMatrixDisplay(confusion_matrix = confusion_mat, \n",
        "                                            display_labels = ['cat', 'dog', 'elephant', 'giraffe', 'panda'])\n",
        "cm_display.plot()\n",
        "plt.xlabel(\"predicted label\")\n",
        "plt.ylabel(\"True label\")\n",
        "plt.show()"
      ]
    },
    {
      "cell_type": "markdown",
      "metadata": {},
      "source": [
        "### inference code:"
      ]
    },
    {
      "cell_type": "code",
      "execution_count": 49,
      "metadata": {},
      "outputs": [
        {
          "name": "stdout",
          "output_type": "stream",
          "text": [
            "\u001b[1m1/1\u001b[0m \u001b[32m━━━━━━━━━━━━━━━━━━━━\u001b[0m\u001b[37m\u001b[0m \u001b[1m0s\u001b[0m 31ms/step\n",
            "🐱\n"
          ]
        }
      ],
      "source": [
        "import cv2\n",
        "\n",
        "image = cv2.imread(\"dog_image.jpg\")\n",
        "image = cv2.cvtColor(image, cv2.COLOR_BGR2RGB)\n",
        "image = cv2.resize(image , (224, 224))\n",
        "image = image // 255.0\n",
        "image = image.reshape(1, 224, 224, 3)\n",
        "\n",
        "output = model.predict(image)\n",
        "predicted_class = np.argmax(output)\n",
        "\n",
        "if predicted_class == 0:\n",
        "    print(\"🐱\")\n",
        "elif predicted_class == 1:\n",
        "    print(\"🐶\")\n",
        "elif predicted_class == 2:\n",
        "    print(\"🐘\")  \n",
        "elif predicted_class == 3:\n",
        "    print(\"🦒\")\n",
        "elif predicted_class == 4:\n",
        "    print(\"🐼\")"
      ]
    }
  ],
  "metadata": {
    "accelerator": "GPU",
    "colab": {
      "gpuType": "T4",
      "provenance": []
    },
    "kernelspec": {
      "display_name": "Python 3",
      "name": "python3"
    },
    "language_info": {
      "codemirror_mode": {
        "name": "ipython",
        "version": 3
      },
      "file_extension": ".py",
      "mimetype": "text/x-python",
      "name": "python",
      "nbconvert_exporter": "python",
      "pygments_lexer": "ipython3",
      "version": "3.10.11"
    }
  },
  "nbformat": 4,
  "nbformat_minor": 0
}
