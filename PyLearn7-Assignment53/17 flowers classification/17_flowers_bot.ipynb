{
  "cells": [
    {
      "cell_type": "code",
      "execution_count": null,
      "metadata": {
        "colab": {
          "base_uri": "https://localhost:8080/"
        },
        "id": "8RdEV6E9YRZt",
        "outputId": "3840be5d-8b20-4f86-cc51-2cdfb656877e"
      },
      "outputs": [
        {
          "name": "stdout",
          "output_type": "stream",
          "text": [
            "Requirement already satisfied: telebot in /usr/local/lib/python3.10/dist-packages (0.0.5)\n",
            "Requirement already satisfied: pyTelegramBotAPI in /usr/local/lib/python3.10/dist-packages (from telebot) (4.22.1)\n",
            "Requirement already satisfied: requests in /usr/local/lib/python3.10/dist-packages (from telebot) (2.32.3)\n",
            "Requirement already satisfied: charset-normalizer<4,>=2 in /usr/local/lib/python3.10/dist-packages (from requests->telebot) (3.3.2)\n",
            "Requirement already satisfied: idna<4,>=2.5 in /usr/local/lib/python3.10/dist-packages (from requests->telebot) (3.8)\n",
            "Requirement already satisfied: urllib3<3,>=1.21.1 in /usr/local/lib/python3.10/dist-packages (from requests->telebot) (2.0.7)\n",
            "Requirement already satisfied: certifi>=2017.4.17 in /usr/local/lib/python3.10/dist-packages (from requests->telebot) (2024.7.4)\n"
          ]
        }
      ],
      "source": [
        "# !pip install telebot"
      ]
    },
    {
      "cell_type": "code",
      "execution_count": null,
      "metadata": {
        "colab": {
          "base_uri": "https://localhost:8080/"
        },
        "id": "jH2OhZhKZeSF",
        "outputId": "8ef77c6d-a6c0-4076-d73d-0af8984566a1"
      },
      "outputs": [
        {
          "name": "stderr",
          "output_type": "stream",
          "text": [
            "WARNING:absl:Compiled the loaded model, but the compiled metrics have yet to be built. `model.compile_metrics` will be empty until you train or evaluate the model.\n"
          ]
        },
        {
          "name": "stdout",
          "output_type": "stream",
          "text": [
            "\u001b[1m1/1\u001b[0m \u001b[32m━━━━━━━━━━━━━━━━━━━━\u001b[0m\u001b[37m\u001b[0m \u001b[1m0s\u001b[0m 125ms/step\n",
            "iris\n"
          ]
        },
        {
          "name": "stderr",
          "output_type": "stream",
          "text": [
            "WARNING:absl:Compiled the loaded model, but the compiled metrics have yet to be built. `model.compile_metrics` will be empty until you train or evaluate the model.\n"
          ]
        },
        {
          "name": "stdout",
          "output_type": "stream",
          "text": [
            "\u001b[1m1/1\u001b[0m \u001b[32m━━━━━━━━━━━━━━━━━━━━\u001b[0m\u001b[37m\u001b[0m \u001b[1m0s\u001b[0m 109ms/step\n",
            "iris\n"
          ]
        },
        {
          "name": "stderr",
          "output_type": "stream",
          "text": [
            "WARNING:absl:Compiled the loaded model, but the compiled metrics have yet to be built. `model.compile_metrics` will be empty until you train or evaluate the model.\n"
          ]
        },
        {
          "name": "stdout",
          "output_type": "stream",
          "text": [
            "\u001b[1m1/1\u001b[0m \u001b[32m━━━━━━━━━━━━━━━━━━━━\u001b[0m\u001b[37m\u001b[0m \u001b[1m0s\u001b[0m 108ms/step\n",
            "iris\n"
          ]
        },
        {
          "name": "stderr",
          "output_type": "stream",
          "text": [
            "WARNING:absl:Compiled the loaded model, but the compiled metrics have yet to be built. `model.compile_metrics` will be empty until you train or evaluate the model.\n"
          ]
        },
        {
          "name": "stdout",
          "output_type": "stream",
          "text": [
            "\u001b[1m1/1\u001b[0m \u001b[32m━━━━━━━━━━━━━━━━━━━━\u001b[0m\u001b[37m\u001b[0m \u001b[1m0s\u001b[0m 116ms/step\n",
            "bluebell\n"
          ]
        },
        {
          "name": "stderr",
          "output_type": "stream",
          "text": [
            "2024-09-02 18:32:02,426 (__init__.py:1112 MainThread) ERROR - TeleBot: \"Infinity polling: polling exited\"\n",
            "ERROR:TeleBot:Infinity polling: polling exited\n",
            "2024-09-02 18:32:02,430 (__init__.py:1114 MainThread) ERROR - TeleBot: \"Break infinity polling\"\n",
            "ERROR:TeleBot:Break infinity polling\n"
          ]
        }
      ],
      "source": [
        "import cv2\n",
        "import telebot\n",
        "import numpy as np\n",
        "import tensorflow as tf\n",
        "from telebot import types\n",
        "\n",
        "\n",
        "mybot = telebot.TeleBot(\"Enter token here.\", parse_mode=None)\n",
        "\n",
        "@mybot.message_handler(commands=['start'])\n",
        "def send_welcome(message):\n",
        "    msg = mybot.send_message(message.chat.id,\"Hi \"+str(message.chat.first_name)+\" \\n\" + \"Welcome to 'flower Recognition Bot'\"+\" \\n\"+\n",
        "                            \"This bot can recognize flowers for you.\"+'\\n'+\"/Flower_Recognition\")\n",
        "\n",
        "\n",
        "@mybot.message_handler(commands=['Flower_Recognition'])\n",
        "def send_photo(message):\n",
        "    msg = mybot.reply_to(message,\"Please send me a photo of a flower 🌷.\")\n",
        "    mybot.register_next_step_handler(msg,recognize_flowers)\n",
        "\n",
        "def recognize_flowers(message):\n",
        "    my_model = tf.keras.models.load_model('/content/drive/MyDrive/Colab Notebooks/PyLearn7-Assignment53/17_flowers_weights.h5')\n",
        "\n",
        "    fileID = message.photo[-1].file_id\n",
        "    file_info = mybot.get_file(fileID)\n",
        "    downloaded_file = mybot.download_file(file_info.file_path)\n",
        "\n",
        "    with open(\"image.jpg\", 'wb') as new_file:\n",
        "        new_file.write(downloaded_file)\n",
        "\n",
        "    image = cv2.imread(\"image.jpg\")\n",
        "    image = cv2.cvtColor(image, cv2.COLOR_BGR2RGB)\n",
        "    image = cv2.resize(image , (224, 224))\n",
        "    image = image // 255.0\n",
        "    image = image.reshape(1, 224, 224, 3)\n",
        "\n",
        "    output = my_model.predict(image)\n",
        "    predicted_class = np.argmax(output)\n",
        "\n",
        "    labels = ['bluebell', 'buttercup', 'coltsfoot', 'cowslip', 'crocus', 'daffodil',\n",
        "              'daisy', 'dandelion', 'fritillary', 'iris', 'lilyvalley', 'pansy',\n",
        "              'snowdrop', 'sunflower', 'tigerlily', 'tulip', 'windflower']\n",
        "\n",
        "    label = labels[predicted_class]\n",
        "    print(label)\n",
        "\n",
        "    mybot.send_message(message.chat.id, labels[predicted_class])\n",
        "\n",
        "mybot.enable_save_next_step_handlers(delay=2)\n",
        "mybot.load_next_step_handlers()\n",
        "mybot.infinity_polling()"
      ]
    }
  ],
  "metadata": {
    "colab": {
      "provenance": []
    },
    "kernelspec": {
      "display_name": "Python 3",
      "name": "python3"
    },
    "language_info": {
      "name": "python"
    }
  },
  "nbformat": 4,
  "nbformat_minor": 0
}
